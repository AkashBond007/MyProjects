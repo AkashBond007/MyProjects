{
 "cells": [
  {
   "cell_type": "markdown",
   "id": "536cbfa3-e140-43c9-8338-c2f980349ffd",
   "metadata": {},
   "source": [
    "### Exercise - Create a markdown cell with the title of the notebook"
   ]
  },
  {
   "cell_type": "markdown",
   "id": "2970fceb-8455-4cb2-b541-9a6410147f1c",
   "metadata": {},
   "source": [
    "# DATA SCIENCE"
   ]
  },
  {
   "cell_type": "markdown",
   "id": "7a3b9871-bee6-425f-8d7e-23c8e2c32bf7",
   "metadata": {},
   "source": [
    "### Exercise - Create a markdown cell for an introduction"
   ]
  },
  {
   "cell_type": "markdown",
   "id": "e1a69918-06ee-42f4-9e34-a69242b248e5",
   "metadata": {},
   "source": [
    "Hello I am Akash. I love this Data Science Course"
   ]
  },
  {
   "cell_type": "markdown",
   "id": "357e4eed-85f0-4378-8aa4-ef8b5626b4f1",
   "metadata": {},
   "source": [
    "### Exercise - Create a markdown cell to list data science languages"
   ]
  },
  {
   "cell_type": "markdown",
   "id": "03ac3d3a-3fb3-499c-8da8-8af84ec7ddf4",
   "metadata": {},
   "source": [
    "Here are some Data Science Languages\n",
    "\n",
    "1. Python\n",
    "2. R\n",
    "3. SQL\n",
    "4. Java\n",
    "5. Scala"
   ]
  },
  {
   "cell_type": "markdown",
   "id": "f43dea5c-4a8a-429b-82e6-092a4708014c",
   "metadata": {},
   "source": [
    "### Exercise  - Create a markdown cell to list data science libraries"
   ]
  },
  {
   "cell_type": "markdown",
   "id": "ee68873e-e15f-4477-bb08-da013df93af8",
   "metadata": {},
   "source": [
    "Here are some data science libraries\n",
    "1. Python\n",
    "1. NumPy\n",
    "2. pandas\n",
    "3. Matplotlib\n",
    "4. seaborn\n",
    "5. scikit-learn\n",
    "6. TensorFlow\n"
   ]
  },
  {
   "cell_type": "markdown",
   "id": "fd812add-4c28-4d7d-9e0d-d94edcb95bcb",
   "metadata": {},
   "source": [
    "### Exercise - Create a markdown cell with a table of Data Science tools."
   ]
  },
  {
   "cell_type": "markdown",
   "id": "b2e89c8d-65d0-4780-8bf0-99d03d193c8b",
   "metadata": {},
   "source": [
    "| Tool             | Category                | Description                                                                 |\r\n",
    "|------------------|-------------------------|-----------------------------------------------------------------------------|\r\n",
    "| **Python**       | Programming Language    | General-purpose language, widely used in data science.                      |\r\n",
    "| **R**            | Programming Language    | Language focused on statistical analysis and visualization.                 |\r\n",
    "| **SQL**          | Query Language          | Language for managing and querying relational databases.                    |\r\n",
    "| **Jupyter**      | Notebook Environment    | Interactive notebooks for running and documenting code.                     |\r\n",
    "| **NumPy**        | Data Manipulation       | Library for numerical computations in Python.                               |\r\n",
    "| **pandas**       | Data Manipulation       | Library for data manipulation and analysis in Python.                       | 3 |"
   ]
  },
  {
   "cell_type": "markdown",
   "id": "788212bc-446d-486c-ad8c-d827375e5dc4",
   "metadata": {},
   "source": [
    "### Exercise - Create a markdown cell introducing arithmetic expression examples."
   ]
  },
  {
   "cell_type": "markdown",
   "id": "b55b4e13-bdc9-4f69-b1c6-929dd31b5e52",
   "metadata": {},
   "source": [
    "### Addition\n",
    "```python\n",
    "# Adding two numbers\n",
    "a = 5\n",
    "b = 3\n",
    "sum_result = a + b\n",
    "print(\"Addition:\", sum_result)"
   ]
  },
  {
   "cell_type": "markdown",
   "id": "bbc1962a-f9e1-406f-a0f2-57fe032e4180",
   "metadata": {},
   "source": [
    "### Exercise - Create a code cell to multiply and add numbers."
   ]
  },
  {
   "cell_type": "markdown",
   "id": "01dc9382-20a1-4843-8957-241aba2dc115",
   "metadata": {},
   "source": [
    "a = 5\n",
    "b = 3\n",
    "\n",
    "multiplication_result = a * b\n",
    "\n",
    "addition_result = a + b\n",
    "\n",
    "print(\"Multiplication Result:\", multiplication_result)\n",
    "print(\"Addition Result:\", addition_result)"
   ]
  },
  {
   "cell_type": "markdown",
   "id": "1b0d198e-dc93-42b5-be0e-8e62f2fdd672",
   "metadata": {},
   "source": [
    "### Exercise - Create a code cell to convert minutes to hours."
   ]
  },
  {
   "cell_type": "code",
   "execution_count": 6,
   "id": "f5459af4-0752-42a3-be38-5b7dcaac8174",
   "metadata": {},
   "outputs": [
    {
     "name": "stdout",
     "output_type": "stream",
     "text": [
      "120 minutes is equal to 2.0 hours.\n"
     ]
    }
   ],
   "source": [
    "minutes = 120\n",
    "\n",
    "hours = minutes / 60\n",
    "\n",
    "print(f\"{minutes} minutes is equal to {hours} hours.\")"
   ]
  },
  {
   "cell_type": "markdown",
   "id": "83f7fe56-fa66-4f26-aaa2-621ce213398f",
   "metadata": {},
   "source": [
    "### Exercise -Insert a markdown cell to list Objectives"
   ]
  },
  {
   "cell_type": "markdown",
   "id": "9d096de3-dac5-456c-9982-275a889cc054",
   "metadata": {},
   "source": [
    "Objectives : \n",
    "1. introduction\n",
    "2. list data science languages\n",
    "3. list data science libraries\n",
    "4. table of Data Science tools.\n",
    "5. arithmetic expression\n",
    "6. multiply and add numbers\n",
    "7. convert minutes to hours"
   ]
  },
  {
   "cell_type": "markdown",
   "id": "7a8b5173-fe99-42a8-9963-c1e2ce1c962e",
   "metadata": {},
   "source": [
    "### Exercise - Create a markdown cell to indicate the Author’s name"
   ]
  },
  {
   "cell_type": "markdown",
   "id": "c3e9f65d-c364-4366-851d-0b058300ac14",
   "metadata": {},
   "source": [
    "## Author : AKASH \n",
    "## LOVES DATA SCIENCE "
   ]
  },
  {
   "cell_type": "markdown",
   "id": "cf7b1840-0ffc-4cfb-89a6-1f49db94e92c",
   "metadata": {},
   "source": [
    "### Exercise - Share your notebook through GitHub "
   ]
  },
  {
   "cell_type": "code",
   "execution_count": null,
   "id": "d704dcfe-fdf0-41de-83a2-655dc577e9f7",
   "metadata": {},
   "outputs": [],
   "source": []
  }
 ],
 "metadata": {
  "kernelspec": {
   "display_name": "Python 3 (ipykernel)",
   "language": "python",
   "name": "python3"
  },
  "language_info": {
   "codemirror_mode": {
    "name": "ipython",
    "version": 3
   },
   "file_extension": ".py",
   "mimetype": "text/x-python",
   "name": "python",
   "nbconvert_exporter": "python",
   "pygments_lexer": "ipython3",
   "version": "3.10.14"
  }
 },
 "nbformat": 4,
 "nbformat_minor": 5
}
